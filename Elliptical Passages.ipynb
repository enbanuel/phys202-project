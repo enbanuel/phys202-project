{
 "cells": [
  {
   "cell_type": "code",
   "execution_count": 207,
   "metadata": {
    "collapsed": false
   },
   "outputs": [],
   "source": [
    "%matplotlib inline\n",
    "import numpy as np\n",
    "import matplotlib.pyplot as plt"
   ]
  },
  {
   "cell_type": "markdown",
   "metadata": {},
   "source": [
    "$$ x = a y^2 + by + c $$"
   ]
  },
  {
   "cell_type": "markdown",
   "metadata": {},
   "source": [
    "$$ v = \\sqrt{\\frac{2(e^2-1)G^2 M^2 S^2}{2L^2} + \\frac{2GM}{r}}$$"
   ]
  },
  {
   "cell_type": "code",
   "execution_count": 208,
   "metadata": {
    "collapsed": false
   },
   "outputs": [
    {
     "data": {
      "text/plain": [
       "4.499268066804861e-08"
      ]
     },
     "execution_count": 208,
     "metadata": {},
     "output_type": "execute_result"
    }
   ],
   "source": [
    "\"\"\"Constants to be used in subsequent code. \"\"\"\n",
    "o_gamma = 6.67384 * (10**-11) #m3 kg-1 s-2;    tu=10^8 years\n",
    "gamma = o_gamma* (3.24077929e-20/1)**3 * (1/3.1689e-8)**2 * (1.989e30/1) * (10**8/1)**2 #kpc3 m_sun-1 tu-2\n",
    "gamma\n",
    "#         Vold = np.sqrt((2.0 * gamma * M/r_s[i]) + ((2*(e**2 - 1)*gamma**2 * M**2 * S**2)/(2*L**2)))"
   ]
  },
  {
   "cell_type": "code",
   "execution_count": 247,
   "metadata": {
    "collapsed": false
   },
   "outputs": [],
   "source": [
    "def initial_galaxy(M, S, e, N=50):\n",
    "    icg = [] \n",
    "    if e == 1:\n",
    "        Y = np.linspace(-10, 10, N)\n",
    "        for j in range(len(Y)):\n",
    "            X = []\n",
    "            X.append(-Y[j]**2/100 - 25)\n",
    "        for i in range(len(X)):\n",
    "            r_s = np.sqrt(np.array(X)**2 + np.array(Y)**2)\n",
    "            phi = np.arctan(4.0*25/(-2.0*np.array(Y)))\n",
    "#             theta = np.arctan(np.array(Y)/np.array(X))\n",
    "#             a = np.array(r_s) * (1 + e*np.cos(np.array(theta))) / (1 - e**2)\n",
    "\n",
    "            V = np.sqrt((2*gamma*(M+S))/np.array(r_s))\n",
    "#             V = np.sqrt((2.0 * gamma * M/np.array(r_s)) + (((e**2 - 1)*gamma * M)/(np.array(r_s)*(1 + e*np.cos(np.array(theta))))))\n",
    "            Vx = np.array(V)*np.cos(np.array(phi))\n",
    "            Vy = np.array(V)*np.sin(np.array(phi))\n",
    "            IC = np.array([X[i], Y[i], Vx[i], Vy[i]])\n",
    "            icg.append(IC)\n",
    "    elif e > 1:\n",
    "#         thetan = np.linspace(0, 2*np.pi, N)\n",
    "        Y = np.linspace(-10, 10, N)\n",
    "        for i in range(len(Y)):\n",
    "            a = (e-1)/(25*e)-25\n",
    "            c = (e-1)/(25*e)\n",
    "            b = a*np.sqrt(1-e**2)\n",
    "            h = -25 - a\n",
    "#             r = (a * (e**2-1)/(1+ e*np.cos(np.array(thetan))))\n",
    "#             x = np.array(r) * np.cos(np.array(thetan))\n",
    "#             y = np.array(r) * np.sin(np.array(thetan))\n",
    "            X = np.sqrt(a**2 * ((np.array(Y)**2 / b**2) + 1)) + h\n",
    "            r = np.sqrt(np.array(X)**2 + np.array(Y)**2)\n",
    "            v = np.sqrt((2*gamma*M)/np.array(r) - (gamma*M)/a)\n",
    "            \n",
    "            Ic = np.array([X[i], Y[i]])\n",
    "            icg.append(Ic)\n",
    "    else:\n",
    "        return 'Not available'\n",
    "    return icg"
   ]
  },
  {
   "cell_type": "code",
   "execution_count": 248,
   "metadata": {
    "collapsed": false
   },
   "outputs": [
    {
     "name": "stderr",
     "output_type": "stream",
     "text": [
      "/usr/local/lib/python3.4/dist-packages/IPython/kernel/__main__.py:26: RuntimeWarning: invalid value encountered in sqrt\n"
     ]
    }
   ],
   "source": [
    "M, S, e = 1e11, 1e11, 3\n",
    "ic_gala = initial_galaxy(M, S, e)\n",
    "# ic_gala"
   ]
  },
  {
   "cell_type": "code",
   "execution_count": 249,
   "metadata": {
    "collapsed": false
   },
   "outputs": [],
   "source": [
    "x = [p[0] for p in ic_gala]\n",
    "y = [p[1] for p in ic_gala]\n",
    "# x"
   ]
  },
  {
   "cell_type": "code",
   "execution_count": 250,
   "metadata": {
    "collapsed": false
   },
   "outputs": [
    {
     "data": {
      "image/png": "[encoded data removed]",
      "text/plain": [
       "<matplotlib.figure.Figure at 0x7fe940801940>"
      ]
     },
     "metadata": {},
     "output_type": "display_data"
    }
   ],
   "source": [
    "plt.figure(figsize=(8,8))\n",
    "plt.plot(x, y)\n",
    "# plt.plot(vx, vy, color='red')\n",
    "# plt.ylim(-100, 100)\n",
    "# plt.xlim(-35, 25)\n",
    "plt.grid()"
   ]
  },
  {
   "cell_type": "code",
   "execution_count": 122,
   "metadata": {
    "collapsed": false
   },
   "outputs": [
    {
     "data": {
      "image/png": "[encoded data removed]",
      "text/plain": [
       "<matplotlib.figure.Figure at 0x7fe940b27cc0>"
      ]
     },
     "metadata": {},
     "output_type": "display_data"
    }
   ],
   "source": [
    "t = np.linspace(-5, 5, 100)\n",
    "x = 25*t**2 - 25\n",
    "y = 50*t\n",
    "plt.plot(x, y)\n",
    "plt.xlim(-30, 10)\n",
    "plt.ylim(-55, 55)\n",
    "plt.grid();"
   ]
  },
  {
   "cell_type": "code",
   "execution_count": null,
   "metadata": {
    "collapsed": true
   },
   "outputs": [],
   "source": []
  }
 ],
 "metadata": {
  "kernelspec": {
   "display_name": "Python 3",
   "language": "python",
   "name": "python3"
  },
  "language_info": {
   "codemirror_mode": {
    "name": "ipython",
    "version": 3
   },
   "file_extension": ".py",
   "mimetype": "text/x-python",
   "name": "python",
   "nbconvert_exporter": "python",
   "pygments_lexer": "ipython3",
   "version": "3.4.0"
  }
 },
 "nbformat": 4,
 "nbformat_minor": 0
}
