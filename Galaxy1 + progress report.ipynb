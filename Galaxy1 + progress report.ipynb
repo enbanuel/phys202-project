{
 "cells": [
  {
   "cell_type": "code",
   "execution_count": 204,
   "metadata": {
    "collapsed": false
   },
   "outputs": [],
   "source": [
    "%matplotlib inline\n",
    "import matplotlib.pyplot as plt\n",
    "import matplotlib.animation as animation\n",
    "import numpy as np\n",
    "import seaborn as sns\n",
    "from scipy.integrate import odeint\n",
    "import scipy.integrate as integrate\n",
    "from IPython.html.widgets import interact, fixed"
   ]
  },
  {
   "cell_type": "markdown",
   "metadata": {},
   "source": [
    "# Progress Report"
   ]
  },
  {
   "cell_type": "markdown",
   "metadata": {},
   "source": [
    "I am working on the galaxy project, and am solving the second order differential equations below using the odeint function from matplotlib. I aim to use these equations to make a scatter plot that plots the $x$, and $y$ components of the two galaxies, M and S, as well as the stars orbiting M, with respect to time. Using interact to change the time should yeild a change in position of all particles on the graph without overlaying any points from previous or future times."
   ]
  },
  {
   "cell_type": "markdown",
   "metadata": {},
   "source": [
    "#####Base question:\n",
    "I aim to use my program to solve the Toomre's example of a retreograde passage between the two galaxies, with both M and S having the same mass, and with their passage being parabolic in nature."
   ]
  },
  {
   "cell_type": "markdown",
   "metadata": {},
   "source": [
    "#####Additional Questions:\n",
    "1) How the disruption of a retrograde passage is affected at higher eccenticities, thereby making the passage more elliptical (i.e. $\\epsilon = 7$)"
   ]
  },
  {
   "cell_type": "markdown",
   "metadata": {},
   "source": [
    "2) How the disruption of the orbiting stars are affected at higher S to M mass ratio."
   ]
  },
  {
   "cell_type": "markdown",
   "metadata": {},
   "source": [
    "As of right now, I have not needed any additional python packages, nor do I know how to install them anyway. \n",
    "Below is all of my working code, including an interact that shows an origin point representing M (blue), a test star (red), and S (green), with the slider N controlling time. "
   ]
  },
  {
   "cell_type": "markdown",
   "metadata": {},
   "source": [
    "The points do seem to interact with each other somewhat, but I am having difficulty implementing the orbiting of the stars, having more stars in general, and getting a parabolic orbit of S. N only seems to work for a set limit, i.e. the graph will stop plotting after N reaches 57 (the number changes based on initial condition), and I get the message that excess work is being done."
   ]
  },
  {
   "cell_type": "markdown",
   "metadata": {},
   "source": [
    "##Eqautons of interaction"
   ]
  },
  {
   "cell_type": "markdown",
   "metadata": {},
   "source": [
    "$$ \\ddot{\\mathbf{r}} = -\\gamma \\left\\{ \\frac{M}{r^3}\\mathbf{r} -\\frac{S}{\\rho^3}\\boldsymbol{\\rho} + \\frac{S}{R^3}\\boldsymbol\\Re \\right\\} $$\n",
    "\n",
    "$$ \\ddot{\\boldsymbol\\Re} = -\\gamma \\frac{M+S}{R^3}\\boldsymbol\\Re$$"
   ]
  },
  {
   "cell_type": "markdown",
   "metadata": {},
   "source": [
    "where \n",
    "\n",
    "* $\\gamma$ is the Gravitational constant.\n",
    "* $M$ is the central mass of the main galaxy and $S$ is the central mass of the disrupting galaxy\n",
    "* $\\mathbf{r}$ is the radius vector from mass $M$ to massless point particle $m$, representing a single (massless) star in the outer disk of the main galaxy.\n",
    "* $\\boldsymbol\\Re$ is the radius vector from $M$ to $S$\n",
    "* $\\boldsymbol{\\rho} = \\boldsymbol{\\Re} - \\boldsymbol{r}$"
   ]
  },
  {
   "cell_type": "code",
   "execution_count": 205,
   "metadata": {
    "collapsed": false
   },
   "outputs": [
    {
     "data": {
      "text/plain": [
       "4.499268066804861e-08"
      ]
     },
     "execution_count": 205,
     "metadata": {},
     "output_type": "execute_result"
    }
   ],
   "source": [
    "\"\"\"Constants to be used in subsequent code. \"\"\"\n",
    "o_gamma = 6.67384 * (10**-11) #m3 kg-1 s-2;    tu=10^8 years\n",
    "gamma = o_gamma* (3.24077929e-20/1)**3 * (1/3.1689e-8)**2 * (1.989e30/1) * (10**8/1)**2 #kpc3 m_sun-1 tu-2\n",
    "gamma"
   ]
  },
  {
   "cell_type": "code",
   "execution_count": 206,
   "metadata": {
    "collapsed": false
   },
   "outputs": [],
   "source": [
    "\"\"\"zvec = Z(t) == [x(t), y(t), dx(t), dy(t), X(t), Y(t), dX(t), dY(t)]\n",
    "ic = [0.0, 1.0, 0.0, 1.5, 2.0, 2.0, -1.0, 0.0]\"\"\"\n",
    "t = np.linspace(0.0, 1.0, 300) #in tu"
   ]
  },
  {
   "cell_type": "code",
   "execution_count": 207,
   "metadata": {
    "collapsed": false
   },
   "outputs": [],
   "source": [
    "def derivs(zvec, t, M, S):\n",
    "    \"\"\"\n",
    "    zvec = solution array of all initial states for the xy\n",
    "            components of r and R_ms\n",
    "            = [x(t), y(t), dx(t), dy(t), X(t), Y(t), dX(t), dY(t)]\n",
    "    M, S = mass of galaxies M and S\n",
    "    \n",
    "    Returns:\n",
    "    \n",
    "    dz = derivative of zvec to b used in odeint solution function\n",
    "        = [dx(t), dy(t), d^2x(t), d^2y(t), dX(t), dY(t), d^2X(t), d^2Y(t)]\n",
    "    \"\"\"\n",
    "    #r vector from M to mi components\n",
    "    x = zvec[0]\n",
    "    y = zvec[1]\n",
    "    \n",
    "    dx = zvec[2]\n",
    "    dy = zvec[3]\n",
    "    \n",
    "    #Rms vector from M to S components\n",
    "    X = zvec[4]\n",
    "    Y = zvec[5]\n",
    "    \n",
    "    dX = zvec[6]\n",
    "    dY = zvec[7]\n",
    "    \n",
    "    r_vec = np.array([x, y])\n",
    "    dr = np.array([dx, dy])\n",
    "    vr = np.sqrt(dx**2 + dy**2)\n",
    "    \n",
    "    Rms_vec = np.array([X, Y])\n",
    "    dRms = np.array([dX, dY])\n",
    "    \n",
    "    r_mag = np.sqrt(x**2 + y**2)\n",
    "    Rms_mag = np.sqrt(X**2 + Y**2)\n",
    "    \n",
    "    rho_vec = Rms_vec - r_vec\n",
    "    rho_mag = np.sqrt((Y-y)**2 + (X-x)**2)\n",
    "    \n",
    "    d2r = -gamma*((M/r_mag**3)*r_vec - (S/rho_mag**3)*rho_vec + (S/Rms_mag**3)*Rms_vec)\n",
    "    d2Rms = -gamma*((M + S)/ Rms_mag**3)*Rms_vec\n",
    "    \n",
    "    dz = np.array([dr[0], dr[1], d2r[0], d2r[1], dRms[0], dRms[1], d2Rms[0], d2Rms[1]])\n",
    "    return dz\n",
    "# print(derivs(np.array([1,1,1,1,2,6,1,1]), 6, 1e11, 1e11))"
   ]
  },
  {
   "cell_type": "code",
   "execution_count": 208,
   "metadata": {
    "collapsed": true
   },
   "outputs": [],
   "source": [
    "def initial_stars(M):\n",
    "    \"\"\"The initial conditions for every star that will be fed into solve_eqn as ic.\"\"\"\n",
    "    ics = []\n",
    "    \n",
    "    radii = [15,12.5,10,7.5,5]  #Radii of star rings 5 - 1 in kpc\n",
    "    nstars = [36,30,24,18,12]  #Number of stars in rings 5 - 1\n",
    "    for i in range(len(radii)):\n",
    "        r = radii[i]\n",
    "        nring = nstars[i]\n",
    "        theta = np.linspace(0, 2.0*np.pi, nring)\n",
    "        for j in range(nring):\n",
    "            vr = np.sqrt((gamma*M)/r)\n",
    "            x = r*np.cos(theta[j])\n",
    "            y = r*np.sin(theta[j])\n",
    "            vx = vr*np.sin(theta[j])\n",
    "            vy = -vr*np.cos(theta[j])\n",
    "            ic = np.array([x,y,vx,vy])\n",
    "            ics.append(ic)\n",
    "    return ics"
   ]
  },
  {
   "cell_type": "code",
   "execution_count": 209,
   "metadata": {
    "collapsed": false,
    "scrolled": true
   },
   "outputs": [
    {
     "data": {
      "text/plain": [
       "(120, 4)"
      ]
     },
     "execution_count": 209,
     "metadata": {},
     "output_type": "execute_result"
    }
   ],
   "source": [
    "ic_stars = initial_stars(1e11)\n",
    "np.shape(ic_stars)\n",
    "# ic_stars"
   ]
  },
  {
   "cell_type": "code",
   "execution_count": 210,
   "metadata": {
    "collapsed": false
   },
   "outputs": [],
   "source": [
    "# x = [ic[0] for ic in ic_stars]\n",
    "# y = [ic[1] for ic in ic_stars]\n",
    "# plt.scatter(x,y);"
   ]
  },
  {
   "cell_type": "code",
   "execution_count": 211,
   "metadata": {
    "collapsed": true
   },
   "outputs": [],
   "source": [
    "def initial_galaxy(M, S, e):\n",
    "    \"\"\"The initial conditions for the Galaxy S that will be fed into solve_eqn\"\"\"\n",
    "    icg = []\n",
    "    Y = np.linspace(-30, 30, 120)\n",
    "    X = []\n",
    "    for j in range(len(Y)):\n",
    "        X.append(Y[j]**2/100 + 25)\n",
    "    for i in range(len(X)):\n",
    "        r_s = np.sqrt(np.array(X)**2 + np.array(Y)**2)\n",
    "        \n",
    "        phi = np.arctan(4.0*25/(-2.0*np.array(Y)))\n",
    "#         alpha = np.arctan(np.array(Y)/np.array(X))\n",
    "        V = np.sqrt((2*gamma*M)/np.array(r_s))\n",
    "        \n",
    "        Vx = np.array(V)*np.cos(np.array(phi))\n",
    "        Vy = np.array(V)*np.sin(np.array(phi))\n",
    "        \n",
    "        IC = np.array([X[i], Y[i], Vx[i], Vy[i]])\n",
    "        icg.append(IC)\n",
    "    return icg"
   ]
  },
  {
   "cell_type": "code",
   "execution_count": 212,
   "metadata": {
    "collapsed": false,
    "scrolled": true
   },
   "outputs": [
    {
     "data": {
      "text/plain": [
       "(120, 4)"
      ]
     },
     "execution_count": 212,
     "metadata": {},
     "output_type": "execute_result"
    }
   ],
   "source": [
    "M, S, e = 1e8, 0, 0\n",
    "ic_gala = initial_galaxy(M, S, e)\n",
    "np.shape(ic_gala)\n",
    "# ic_gala"
   ]
  },
  {
   "cell_type": "code",
   "execution_count": 213,
   "metadata": {
    "collapsed": false
   },
   "outputs": [],
   "source": [
    "def solve_eqn(ic_gala, ic_star, t_max=10.0, M=1e11, S=1e11, ntimes=300):\n",
    "    t = np.linspace(0.0, t_max, ntimes)\n",
    "    ic_total = np.hstack([ic_star, ic_gala])\n",
    "    soln = odeint(derivs, ic_total, t, args=(M,S))\n",
    "    return soln"
   ]
  },
  {
   "cell_type": "code",
   "execution_count": 214,
   "metadata": {
    "collapsed": false,
    "scrolled": true
   },
   "outputs": [
    {
     "name": "stdout",
     "output_type": "stream",
     "text": [
      "Excess work done on this call (perhaps wrong Dfun type).\n",
      "Run with full_output = 1 to get quantitative information.\n"
     ]
    }
   ],
   "source": [
    "soln = [solve_eqn(ic_gala[0], ic_stars[q]) for q in range(120)]"
   ]
  },
  {
   "cell_type": "code",
   "execution_count": 215,
   "metadata": {
    "collapsed": false
   },
   "outputs": [
    {
     "data": {
      "text/plain": [
       "(120, 300, 8)"
      ]
     },
     "execution_count": 215,
     "metadata": {},
     "output_type": "execute_result"
    }
   ],
   "source": [
    "np.shape(soln)"
   ]
  },
  {
   "cell_type": "code",
   "execution_count": 219,
   "metadata": {
    "collapsed": false
   },
   "outputs": [],
   "source": [
    "\n",
    "def plot(time=10):\n",
    "    plt.figure(figsize = (8,8))\n",
    "    for i in range(120):\n",
    "        x = [j[0] for j in soln[i]]\n",
    "        y = [j[1] for j in soln[i]]\n",
    "        X = [j[4] for j in soln[i]]\n",
    "        Y = [j[5] for j in soln[i]]\n",
    "        for n in range(time):  \n",
    "            plt.scatter(x[time], y[time], color='red')\n",
    "            plt.scatter(X[time], Y[time], color='green')\n",
    "    plt.scatter(0, 0)\n",
    "    plt.xlim(-50, 50)\n",
    "    plt.ylim(-50, 50)"
   ]
  },
  {
   "cell_type": "markdown",
   "metadata": {},
   "source": [
    "##This cell takes approx. 3 minutes or more to run, depending on how much you change the time bar."
   ]
  },
  {
   "cell_type": "code",
   "execution_count": 218,
   "metadata": {
    "collapsed": false
   },
   "outputs": [
    {
     "data": {
      "image/png": "[encoded data removed]",
      "text/plain": [
       "<matplotlib.figure.Figure at 0x7f847c1c1278>"
      ]
     },
     "metadata": {},
     "output_type": "display_data"
    }
   ],
   "source": [
    "interact(plot, time=[0, 299])"
   ]
  }
 ],
 "metadata": {
  "kernelspec": {
   "display_name": "Python 3",
   "language": "python",
   "name": "python3"
  },
  "language_info": {
   "codemirror_mode": {
    "name": "ipython",
    "version": 3
   },
   "file_extension": ".py",
   "mimetype": "text/x-python",
   "name": "python",
   "nbconvert_exporter": "python",
   "pygments_lexer": "ipython3",
   "version": "3.4.0"
  }
 },
 "nbformat": 4,
 "nbformat_minor": 0
}
